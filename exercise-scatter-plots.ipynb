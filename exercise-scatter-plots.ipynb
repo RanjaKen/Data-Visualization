{
 "cells": [
  {
   "cell_type": "markdown",
   "id": "8aa71e87",
   "metadata": {
    "papermill": {
     "duration": 0.008762,
     "end_time": "2024-09-25T07:42:19.998005",
     "exception": false,
     "start_time": "2024-09-25T07:42:19.989243",
     "status": "completed"
    },
    "tags": []
   },
   "source": [
    "**This notebook is an exercise in the [Data Visualization](https://www.kaggle.com/learn/data-visualization) course.  You can reference the tutorial at [this link](https://www.kaggle.com/alexisbcook/scatter-plots).**\n",
    "\n",
    "---\n"
   ]
  },
  {
   "cell_type": "markdown",
   "id": "f331abc3",
   "metadata": {
    "papermill": {
     "duration": 0.007918,
     "end_time": "2024-09-25T07:42:20.014456",
     "exception": false,
     "start_time": "2024-09-25T07:42:20.006538",
     "status": "completed"
    },
    "tags": []
   },
   "source": [
    "In this exercise, you will use your new knowledge to propose a solution to a real-world scenario.  To succeed, you will need to import data into Python, answer questions using the data, and generate **scatter plots** to understand patterns in the data.\n",
    "\n",
    "## Scenario\n",
    "\n",
    "You work for a major candy producer, and your goal is to write a report that your company can use to guide the design of its next product.  Soon after starting your research, you stumble across this [very interesting dataset](https://fivethirtyeight.com/features/the-ultimate-halloween-candy-power-ranking/) containing results from a fun survey to crowdsource favorite candies.\n",
    "\n",
    "## Setup\n",
    "\n",
    "Run the next cell to import and configure the Python libraries that you need to complete the exercise."
   ]
  },
  {
   "cell_type": "code",
   "execution_count": 1,
   "id": "b53ddd55",
   "metadata": {
    "execution": {
     "iopub.execute_input": "2024-09-25T07:42:20.033793Z",
     "iopub.status.busy": "2024-09-25T07:42:20.033362Z",
     "iopub.status.idle": "2024-09-25T07:42:22.651450Z",
     "shell.execute_reply": "2024-09-25T07:42:22.650206Z"
    },
    "papermill": {
     "duration": 2.631054,
     "end_time": "2024-09-25T07:42:22.653816",
     "exception": false,
     "start_time": "2024-09-25T07:42:20.022762",
     "status": "completed"
    },
    "tags": []
   },
   "outputs": [
    {
     "name": "stdout",
     "output_type": "stream",
     "text": [
      "Setup Complete\n"
     ]
    }
   ],
   "source": [
    "import pandas as pd\n",
    "pd.plotting.register_matplotlib_converters()\n",
    "import matplotlib.pyplot as plt\n",
    "%matplotlib inline\n",
    "import seaborn as sns\n",
    "print(\"Setup Complete\")"
   ]
  },
  {
   "cell_type": "markdown",
   "id": "a7799473",
   "metadata": {
    "papermill": {
     "duration": 0.00874,
     "end_time": "2024-09-25T07:42:22.671097",
     "exception": false,
     "start_time": "2024-09-25T07:42:22.662357",
     "status": "completed"
    },
    "tags": []
   },
   "source": [
    "The questions below will give you feedback on your work. Run the following cell to set up our feedback system."
   ]
  },
  {
   "cell_type": "code",
   "execution_count": 2,
   "id": "af86ae45",
   "metadata": {
    "execution": {
     "iopub.execute_input": "2024-09-25T07:42:22.690345Z",
     "iopub.status.busy": "2024-09-25T07:42:22.689797Z",
     "iopub.status.idle": "2024-09-25T07:42:22.761392Z",
     "shell.execute_reply": "2024-09-25T07:42:22.760178Z"
    },
    "papermill": {
     "duration": 0.083483,
     "end_time": "2024-09-25T07:42:22.763808",
     "exception": false,
     "start_time": "2024-09-25T07:42:22.680325",
     "status": "completed"
    },
    "tags": []
   },
   "outputs": [
    {
     "name": "stdout",
     "output_type": "stream",
     "text": [
      "Setup Complete\n"
     ]
    }
   ],
   "source": [
    "# Set up code checking\n",
    "import os\n",
    "if not os.path.exists(\"../input/candy.csv\"):\n",
    "    os.symlink(\"../input/data-for-datavis/candy.csv\", \"../input/candy.csv\") \n",
    "from learntools.core import binder\n",
    "binder.bind(globals())\n",
    "from learntools.data_viz_to_coder.ex4 import *\n",
    "print(\"Setup Complete\")"
   ]
  },
  {
   "cell_type": "markdown",
   "id": "34a603ee",
   "metadata": {
    "papermill": {
     "duration": 0.008,
     "end_time": "2024-09-25T07:42:22.780396",
     "exception": false,
     "start_time": "2024-09-25T07:42:22.772396",
     "status": "completed"
    },
    "tags": []
   },
   "source": [
    "## Step 1: Load the Data\n",
    "\n",
    "Read the candy data file into `candy_data`.  Use the `\"id\"` column to label the rows."
   ]
  },
  {
   "cell_type": "code",
   "execution_count": 3,
   "id": "5cf6ab70",
   "metadata": {
    "execution": {
     "iopub.execute_input": "2024-09-25T07:42:22.798838Z",
     "iopub.status.busy": "2024-09-25T07:42:22.798405Z",
     "iopub.status.idle": "2024-09-25T07:42:22.813667Z",
     "shell.execute_reply": "2024-09-25T07:42:22.812609Z"
    },
    "papermill": {
     "duration": 0.02714,
     "end_time": "2024-09-25T07:42:22.815938",
     "exception": false,
     "start_time": "2024-09-25T07:42:22.788798",
     "status": "completed"
    },
    "tags": []
   },
   "outputs": [
    {
     "data": {
      "application/javascript": [
       "parent.postMessage({\"jupyterEvent\": \"custom.exercise_interaction\", \"data\": {\"outcomeType\": 1, \"valueTowardsCompletion\": 0.3333333333333333, \"interactionType\": 1, \"questionType\": 1, \"questionId\": \"1_LoadData\", \"learnToolsVersion\": \"0.3.4\", \"failureMessage\": \"\", \"exceptionClass\": \"\", \"trace\": \"\"}}, \"*\")"
      ],
      "text/plain": [
       "<IPython.core.display.Javascript object>"
      ]
     },
     "metadata": {},
     "output_type": "display_data"
    },
    {
     "data": {
      "text/markdown": [
       "<span style=\"color:#33cc33\">Correct</span>"
      ],
      "text/plain": [
       "Correct"
      ]
     },
     "metadata": {},
     "output_type": "display_data"
    }
   ],
   "source": [
    "# Path of the file to read\n",
    "candy_filepath = \"../input/candy.csv\"\n",
    "\n",
    "# Fill in the line below to read the file into a variable candy_data\n",
    "candy_data = pd.read_csv(candy_filepath, index_col=\"id\")\n",
    "\n",
    "# Run the line below with no changes to check that you've loaded the data correctly\n",
    "step_1.check()"
   ]
  },
  {
   "cell_type": "code",
   "execution_count": 4,
   "id": "70c73ea5",
   "metadata": {
    "execution": {
     "iopub.execute_input": "2024-09-25T07:42:22.834974Z",
     "iopub.status.busy": "2024-09-25T07:42:22.834595Z",
     "iopub.status.idle": "2024-09-25T07:42:22.839079Z",
     "shell.execute_reply": "2024-09-25T07:42:22.837968Z"
    },
    "papermill": {
     "duration": 0.016662,
     "end_time": "2024-09-25T07:42:22.841351",
     "exception": false,
     "start_time": "2024-09-25T07:42:22.824689",
     "status": "completed"
    },
    "tags": []
   },
   "outputs": [],
   "source": [
    "# Lines below will give you a hint or solution code\n",
    "#step_1.hint()\n",
    "#step_1.solution()"
   ]
  },
  {
   "cell_type": "markdown",
   "id": "d9dad609",
   "metadata": {
    "papermill": {
     "duration": 0.008357,
     "end_time": "2024-09-25T07:42:22.858547",
     "exception": false,
     "start_time": "2024-09-25T07:42:22.850190",
     "status": "completed"
    },
    "tags": []
   },
   "source": [
    "## Step 2: Review the data\n",
    "\n",
    "Use a Python command to print the first five rows of the data."
   ]
  },
  {
   "cell_type": "code",
   "execution_count": 5,
   "id": "1eeaebbb",
   "metadata": {
    "execution": {
     "iopub.execute_input": "2024-09-25T07:42:22.878246Z",
     "iopub.status.busy": "2024-09-25T07:42:22.877339Z",
     "iopub.status.idle": "2024-09-25T07:42:22.900224Z",
     "shell.execute_reply": "2024-09-25T07:42:22.899192Z"
    },
    "papermill": {
     "duration": 0.035202,
     "end_time": "2024-09-25T07:42:22.902532",
     "exception": false,
     "start_time": "2024-09-25T07:42:22.867330",
     "status": "completed"
    },
    "tags": []
   },
   "outputs": [
    {
     "data": {
      "text/html": [
       "<div>\n",
       "<style scoped>\n",
       "    .dataframe tbody tr th:only-of-type {\n",
       "        vertical-align: middle;\n",
       "    }\n",
       "\n",
       "    .dataframe tbody tr th {\n",
       "        vertical-align: top;\n",
       "    }\n",
       "\n",
       "    .dataframe thead th {\n",
       "        text-align: right;\n",
       "    }\n",
       "</style>\n",
       "<table border=\"1\" class=\"dataframe\">\n",
       "  <thead>\n",
       "    <tr style=\"text-align: right;\">\n",
       "      <th></th>\n",
       "      <th>competitorname</th>\n",
       "      <th>chocolate</th>\n",
       "      <th>fruity</th>\n",
       "      <th>caramel</th>\n",
       "      <th>peanutyalmondy</th>\n",
       "      <th>nougat</th>\n",
       "      <th>crispedricewafer</th>\n",
       "      <th>hard</th>\n",
       "      <th>bar</th>\n",
       "      <th>pluribus</th>\n",
       "      <th>sugarpercent</th>\n",
       "      <th>pricepercent</th>\n",
       "      <th>winpercent</th>\n",
       "    </tr>\n",
       "    <tr>\n",
       "      <th>id</th>\n",
       "      <th></th>\n",
       "      <th></th>\n",
       "      <th></th>\n",
       "      <th></th>\n",
       "      <th></th>\n",
       "      <th></th>\n",
       "      <th></th>\n",
       "      <th></th>\n",
       "      <th></th>\n",
       "      <th></th>\n",
       "      <th></th>\n",
       "      <th></th>\n",
       "      <th></th>\n",
       "    </tr>\n",
       "  </thead>\n",
       "  <tbody>\n",
       "    <tr>\n",
       "      <th>0</th>\n",
       "      <td>100 Grand</td>\n",
       "      <td>Yes</td>\n",
       "      <td>No</td>\n",
       "      <td>Yes</td>\n",
       "      <td>No</td>\n",
       "      <td>No</td>\n",
       "      <td>Yes</td>\n",
       "      <td>No</td>\n",
       "      <td>Yes</td>\n",
       "      <td>No</td>\n",
       "      <td>0.732</td>\n",
       "      <td>0.860</td>\n",
       "      <td>66.971725</td>\n",
       "    </tr>\n",
       "    <tr>\n",
       "      <th>1</th>\n",
       "      <td>3 Musketeers</td>\n",
       "      <td>Yes</td>\n",
       "      <td>No</td>\n",
       "      <td>No</td>\n",
       "      <td>No</td>\n",
       "      <td>Yes</td>\n",
       "      <td>No</td>\n",
       "      <td>No</td>\n",
       "      <td>Yes</td>\n",
       "      <td>No</td>\n",
       "      <td>0.604</td>\n",
       "      <td>0.511</td>\n",
       "      <td>67.602936</td>\n",
       "    </tr>\n",
       "    <tr>\n",
       "      <th>2</th>\n",
       "      <td>Air Heads</td>\n",
       "      <td>No</td>\n",
       "      <td>Yes</td>\n",
       "      <td>No</td>\n",
       "      <td>No</td>\n",
       "      <td>No</td>\n",
       "      <td>No</td>\n",
       "      <td>No</td>\n",
       "      <td>No</td>\n",
       "      <td>No</td>\n",
       "      <td>0.906</td>\n",
       "      <td>0.511</td>\n",
       "      <td>52.341465</td>\n",
       "    </tr>\n",
       "    <tr>\n",
       "      <th>3</th>\n",
       "      <td>Almond Joy</td>\n",
       "      <td>Yes</td>\n",
       "      <td>No</td>\n",
       "      <td>No</td>\n",
       "      <td>Yes</td>\n",
       "      <td>No</td>\n",
       "      <td>No</td>\n",
       "      <td>No</td>\n",
       "      <td>Yes</td>\n",
       "      <td>No</td>\n",
       "      <td>0.465</td>\n",
       "      <td>0.767</td>\n",
       "      <td>50.347546</td>\n",
       "    </tr>\n",
       "    <tr>\n",
       "      <th>4</th>\n",
       "      <td>Baby Ruth</td>\n",
       "      <td>Yes</td>\n",
       "      <td>No</td>\n",
       "      <td>Yes</td>\n",
       "      <td>Yes</td>\n",
       "      <td>Yes</td>\n",
       "      <td>No</td>\n",
       "      <td>No</td>\n",
       "      <td>Yes</td>\n",
       "      <td>No</td>\n",
       "      <td>0.604</td>\n",
       "      <td>0.767</td>\n",
       "      <td>56.914547</td>\n",
       "    </tr>\n",
       "  </tbody>\n",
       "</table>\n",
       "</div>"
      ],
      "text/plain": [
       "   competitorname chocolate fruity caramel peanutyalmondy nougat  \\\n",
       "id                                                                 \n",
       "0       100 Grand       Yes     No     Yes             No     No   \n",
       "1    3 Musketeers       Yes     No      No             No    Yes   \n",
       "2       Air Heads        No    Yes      No             No     No   \n",
       "3      Almond Joy       Yes     No      No            Yes     No   \n",
       "4       Baby Ruth       Yes     No     Yes            Yes    Yes   \n",
       "\n",
       "   crispedricewafer hard  bar pluribus  sugarpercent  pricepercent  winpercent  \n",
       "id                                                                              \n",
       "0               Yes   No  Yes       No         0.732         0.860   66.971725  \n",
       "1                No   No  Yes       No         0.604         0.511   67.602936  \n",
       "2                No   No   No       No         0.906         0.511   52.341465  \n",
       "3                No   No  Yes       No         0.465         0.767   50.347546  \n",
       "4                No   No  Yes       No         0.604         0.767   56.914547  "
      ]
     },
     "execution_count": 5,
     "metadata": {},
     "output_type": "execute_result"
    }
   ],
   "source": [
    "# Print the first five rows of the data\n",
    "candy_data.head() # Your code here"
   ]
  },
  {
   "cell_type": "code",
   "execution_count": 6,
   "id": "76c8f50c",
   "metadata": {
    "execution": {
     "iopub.execute_input": "2024-09-25T07:42:22.922035Z",
     "iopub.status.busy": "2024-09-25T07:42:22.921644Z",
     "iopub.status.idle": "2024-09-25T07:42:22.944724Z",
     "shell.execute_reply": "2024-09-25T07:42:22.943588Z"
    },
    "papermill": {
     "duration": 0.035311,
     "end_time": "2024-09-25T07:42:22.946946",
     "exception": false,
     "start_time": "2024-09-25T07:42:22.911635",
     "status": "completed"
    },
    "tags": []
   },
   "outputs": [
    {
     "data": {
      "text/html": [
       "<div>\n",
       "<style scoped>\n",
       "    .dataframe tbody tr th:only-of-type {\n",
       "        vertical-align: middle;\n",
       "    }\n",
       "\n",
       "    .dataframe tbody tr th {\n",
       "        vertical-align: top;\n",
       "    }\n",
       "\n",
       "    .dataframe thead th {\n",
       "        text-align: right;\n",
       "    }\n",
       "</style>\n",
       "<table border=\"1\" class=\"dataframe\">\n",
       "  <thead>\n",
       "    <tr style=\"text-align: right;\">\n",
       "      <th></th>\n",
       "      <th>competitorname</th>\n",
       "      <th>chocolate</th>\n",
       "      <th>fruity</th>\n",
       "      <th>caramel</th>\n",
       "      <th>peanutyalmondy</th>\n",
       "      <th>nougat</th>\n",
       "      <th>crispedricewafer</th>\n",
       "      <th>hard</th>\n",
       "      <th>bar</th>\n",
       "      <th>pluribus</th>\n",
       "      <th>sugarpercent</th>\n",
       "      <th>pricepercent</th>\n",
       "      <th>winpercent</th>\n",
       "    </tr>\n",
       "    <tr>\n",
       "      <th>id</th>\n",
       "      <th></th>\n",
       "      <th></th>\n",
       "      <th></th>\n",
       "      <th></th>\n",
       "      <th></th>\n",
       "      <th></th>\n",
       "      <th></th>\n",
       "      <th></th>\n",
       "      <th></th>\n",
       "      <th></th>\n",
       "      <th></th>\n",
       "      <th></th>\n",
       "      <th></th>\n",
       "    </tr>\n",
       "  </thead>\n",
       "  <tbody>\n",
       "    <tr>\n",
       "      <th>0</th>\n",
       "      <td>100 Grand</td>\n",
       "      <td>Yes</td>\n",
       "      <td>No</td>\n",
       "      <td>Yes</td>\n",
       "      <td>No</td>\n",
       "      <td>No</td>\n",
       "      <td>Yes</td>\n",
       "      <td>No</td>\n",
       "      <td>Yes</td>\n",
       "      <td>No</td>\n",
       "      <td>0.732</td>\n",
       "      <td>0.860</td>\n",
       "      <td>66.971725</td>\n",
       "    </tr>\n",
       "    <tr>\n",
       "      <th>1</th>\n",
       "      <td>3 Musketeers</td>\n",
       "      <td>Yes</td>\n",
       "      <td>No</td>\n",
       "      <td>No</td>\n",
       "      <td>No</td>\n",
       "      <td>Yes</td>\n",
       "      <td>No</td>\n",
       "      <td>No</td>\n",
       "      <td>Yes</td>\n",
       "      <td>No</td>\n",
       "      <td>0.604</td>\n",
       "      <td>0.511</td>\n",
       "      <td>67.602936</td>\n",
       "    </tr>\n",
       "    <tr>\n",
       "      <th>2</th>\n",
       "      <td>Air Heads</td>\n",
       "      <td>No</td>\n",
       "      <td>Yes</td>\n",
       "      <td>No</td>\n",
       "      <td>No</td>\n",
       "      <td>No</td>\n",
       "      <td>No</td>\n",
       "      <td>No</td>\n",
       "      <td>No</td>\n",
       "      <td>No</td>\n",
       "      <td>0.906</td>\n",
       "      <td>0.511</td>\n",
       "      <td>52.341465</td>\n",
       "    </tr>\n",
       "    <tr>\n",
       "      <th>3</th>\n",
       "      <td>Almond Joy</td>\n",
       "      <td>Yes</td>\n",
       "      <td>No</td>\n",
       "      <td>No</td>\n",
       "      <td>Yes</td>\n",
       "      <td>No</td>\n",
       "      <td>No</td>\n",
       "      <td>No</td>\n",
       "      <td>Yes</td>\n",
       "      <td>No</td>\n",
       "      <td>0.465</td>\n",
       "      <td>0.767</td>\n",
       "      <td>50.347546</td>\n",
       "    </tr>\n",
       "    <tr>\n",
       "      <th>4</th>\n",
       "      <td>Baby Ruth</td>\n",
       "      <td>Yes</td>\n",
       "      <td>No</td>\n",
       "      <td>Yes</td>\n",
       "      <td>Yes</td>\n",
       "      <td>Yes</td>\n",
       "      <td>No</td>\n",
       "      <td>No</td>\n",
       "      <td>Yes</td>\n",
       "      <td>No</td>\n",
       "      <td>0.604</td>\n",
       "      <td>0.767</td>\n",
       "      <td>56.914547</td>\n",
       "    </tr>\n",
       "    <tr>\n",
       "      <th>...</th>\n",
       "      <td>...</td>\n",
       "      <td>...</td>\n",
       "      <td>...</td>\n",
       "      <td>...</td>\n",
       "      <td>...</td>\n",
       "      <td>...</td>\n",
       "      <td>...</td>\n",
       "      <td>...</td>\n",
       "      <td>...</td>\n",
       "      <td>...</td>\n",
       "      <td>...</td>\n",
       "      <td>...</td>\n",
       "      <td>...</td>\n",
       "    </tr>\n",
       "    <tr>\n",
       "      <th>78</th>\n",
       "      <td>Twizzlers</td>\n",
       "      <td>No</td>\n",
       "      <td>Yes</td>\n",
       "      <td>No</td>\n",
       "      <td>No</td>\n",
       "      <td>No</td>\n",
       "      <td>No</td>\n",
       "      <td>No</td>\n",
       "      <td>No</td>\n",
       "      <td>No</td>\n",
       "      <td>0.220</td>\n",
       "      <td>0.116</td>\n",
       "      <td>45.466282</td>\n",
       "    </tr>\n",
       "    <tr>\n",
       "      <th>79</th>\n",
       "      <td>Warheads</td>\n",
       "      <td>No</td>\n",
       "      <td>Yes</td>\n",
       "      <td>No</td>\n",
       "      <td>No</td>\n",
       "      <td>No</td>\n",
       "      <td>No</td>\n",
       "      <td>Yes</td>\n",
       "      <td>No</td>\n",
       "      <td>No</td>\n",
       "      <td>0.093</td>\n",
       "      <td>0.116</td>\n",
       "      <td>39.011898</td>\n",
       "    </tr>\n",
       "    <tr>\n",
       "      <th>80</th>\n",
       "      <td>Welch's Fruit Snacks</td>\n",
       "      <td>No</td>\n",
       "      <td>Yes</td>\n",
       "      <td>No</td>\n",
       "      <td>No</td>\n",
       "      <td>No</td>\n",
       "      <td>No</td>\n",
       "      <td>No</td>\n",
       "      <td>No</td>\n",
       "      <td>Yes</td>\n",
       "      <td>0.313</td>\n",
       "      <td>0.313</td>\n",
       "      <td>44.375519</td>\n",
       "    </tr>\n",
       "    <tr>\n",
       "      <th>81</th>\n",
       "      <td>Werther's Original Caramel</td>\n",
       "      <td>No</td>\n",
       "      <td>No</td>\n",
       "      <td>Yes</td>\n",
       "      <td>No</td>\n",
       "      <td>No</td>\n",
       "      <td>No</td>\n",
       "      <td>Yes</td>\n",
       "      <td>No</td>\n",
       "      <td>No</td>\n",
       "      <td>0.186</td>\n",
       "      <td>0.267</td>\n",
       "      <td>41.904308</td>\n",
       "    </tr>\n",
       "    <tr>\n",
       "      <th>82</th>\n",
       "      <td>Whoppers</td>\n",
       "      <td>Yes</td>\n",
       "      <td>No</td>\n",
       "      <td>No</td>\n",
       "      <td>No</td>\n",
       "      <td>No</td>\n",
       "      <td>Yes</td>\n",
       "      <td>No</td>\n",
       "      <td>No</td>\n",
       "      <td>Yes</td>\n",
       "      <td>0.872</td>\n",
       "      <td>0.848</td>\n",
       "      <td>49.524113</td>\n",
       "    </tr>\n",
       "  </tbody>\n",
       "</table>\n",
       "<p>83 rows × 13 columns</p>\n",
       "</div>"
      ],
      "text/plain": [
       "                competitorname chocolate fruity caramel peanutyalmondy nougat  \\\n",
       "id                                                                              \n",
       "0                    100 Grand       Yes     No     Yes             No     No   \n",
       "1                 3 Musketeers       Yes     No      No             No    Yes   \n",
       "2                    Air Heads        No    Yes      No             No     No   \n",
       "3                   Almond Joy       Yes     No      No            Yes     No   \n",
       "4                    Baby Ruth       Yes     No     Yes            Yes    Yes   \n",
       "..                         ...       ...    ...     ...            ...    ...   \n",
       "78                   Twizzlers        No    Yes      No             No     No   \n",
       "79                    Warheads        No    Yes      No             No     No   \n",
       "80        Welch's Fruit Snacks        No    Yes      No             No     No   \n",
       "81  Werther's Original Caramel        No     No     Yes             No     No   \n",
       "82                    Whoppers       Yes     No      No             No     No   \n",
       "\n",
       "   crispedricewafer hard  bar pluribus  sugarpercent  pricepercent  winpercent  \n",
       "id                                                                              \n",
       "0               Yes   No  Yes       No         0.732         0.860   66.971725  \n",
       "1                No   No  Yes       No         0.604         0.511   67.602936  \n",
       "2                No   No   No       No         0.906         0.511   52.341465  \n",
       "3                No   No  Yes       No         0.465         0.767   50.347546  \n",
       "4                No   No  Yes       No         0.604         0.767   56.914547  \n",
       "..              ...  ...  ...      ...           ...           ...         ...  \n",
       "78               No   No   No       No         0.220         0.116   45.466282  \n",
       "79               No  Yes   No       No         0.093         0.116   39.011898  \n",
       "80               No   No   No      Yes         0.313         0.313   44.375519  \n",
       "81               No  Yes   No       No         0.186         0.267   41.904308  \n",
       "82              Yes   No   No      Yes         0.872         0.848   49.524113  \n",
       "\n",
       "[83 rows x 13 columns]"
      ]
     },
     "execution_count": 6,
     "metadata": {},
     "output_type": "execute_result"
    }
   ],
   "source": [
    "candy_data"
   ]
  },
  {
   "cell_type": "markdown",
   "id": "81e82fcd",
   "metadata": {
    "papermill": {
     "duration": 0.009098,
     "end_time": "2024-09-25T07:42:22.965625",
     "exception": false,
     "start_time": "2024-09-25T07:42:22.956527",
     "status": "completed"
    },
    "tags": []
   },
   "source": [
    "The dataset contains 83 rows, where each corresponds to a different candy bar.  There are 13 columns:\n",
    "- `'competitorname'` contains the name of the candy bar. \n",
    "- the next **9** columns (from `'chocolate'` to `'pluribus'`) describe the candy.  For instance, rows with chocolate candies have `\"Yes\"` in the `'chocolate'` column (and candies without chocolate have `\"No\"` in the same column).\n",
    "- `'sugarpercent'` provides some indication of the amount of sugar, where higher values signify higher sugar content.\n",
    "- `'pricepercent'` shows the price per unit, relative to the other candies in the dataset.\n",
    "- `'winpercent'` is calculated from the survey results; higher values indicate that the candy was more popular with survey respondents.\n",
    "\n",
    "Use the first five rows of the data to answer the questions below."
   ]
  },
  {
   "cell_type": "code",
   "execution_count": 7,
   "id": "cf9e0834",
   "metadata": {
    "execution": {
     "iopub.execute_input": "2024-09-25T07:42:22.986299Z",
     "iopub.status.busy": "2024-09-25T07:42:22.985904Z",
     "iopub.status.idle": "2024-09-25T07:42:22.995133Z",
     "shell.execute_reply": "2024-09-25T07:42:22.993907Z"
    },
    "papermill": {
     "duration": 0.022619,
     "end_time": "2024-09-25T07:42:22.997967",
     "exception": false,
     "start_time": "2024-09-25T07:42:22.975348",
     "status": "completed"
    },
    "tags": []
   },
   "outputs": [
    {
     "data": {
      "application/javascript": [
       "parent.postMessage({\"jupyterEvent\": \"custom.exercise_interaction\", \"data\": {\"outcomeType\": 1, \"valueTowardsCompletion\": 0.3333333333333333, \"interactionType\": 1, \"questionType\": 1, \"questionId\": \"2_ReviewData\", \"learnToolsVersion\": \"0.3.4\", \"failureMessage\": \"\", \"exceptionClass\": \"\", \"trace\": \"\"}}, \"*\")"
      ],
      "text/plain": [
       "<IPython.core.display.Javascript object>"
      ]
     },
     "metadata": {},
     "output_type": "display_data"
    },
    {
     "data": {
      "text/markdown": [
       "<span style=\"color:#33cc33\">Correct</span>"
      ],
      "text/plain": [
       "Correct"
      ]
     },
     "metadata": {},
     "output_type": "display_data"
    }
   ],
   "source": [
    "# Fill in the line below: Which candy was more popular with survey respondents:\n",
    "# '3 Musketeers' or 'Almond Joy'?  (Please enclose your answer in single quotes.)\n",
    "more_popular = \"3 Musketeers\"\n",
    "\n",
    "# Fill in the line below: Which candy has higher sugar content: 'Air Heads'\n",
    "# or 'Baby Ruth'? (Please enclose your answer in single quotes.)\n",
    "more_sugar = \"Air Heads\"\n",
    "\n",
    "# Check your answers\n",
    "step_2.check()"
   ]
  },
  {
   "cell_type": "code",
   "execution_count": 8,
   "id": "e0af250b",
   "metadata": {
    "execution": {
     "iopub.execute_input": "2024-09-25T07:42:23.020785Z",
     "iopub.status.busy": "2024-09-25T07:42:23.020361Z",
     "iopub.status.idle": "2024-09-25T07:42:23.025263Z",
     "shell.execute_reply": "2024-09-25T07:42:23.024132Z"
    },
    "papermill": {
     "duration": 0.01907,
     "end_time": "2024-09-25T07:42:23.028065",
     "exception": false,
     "start_time": "2024-09-25T07:42:23.008995",
     "status": "completed"
    },
    "tags": []
   },
   "outputs": [],
   "source": [
    "# Lines below will give you a hint or solution code\n",
    "#step_2.hint()\n",
    "#step_2.solution()"
   ]
  },
  {
   "cell_type": "markdown",
   "id": "3ae4bff7",
   "metadata": {
    "papermill": {
     "duration": 0.011985,
     "end_time": "2024-09-25T07:42:23.050505",
     "exception": false,
     "start_time": "2024-09-25T07:42:23.038520",
     "status": "completed"
    },
    "tags": []
   },
   "source": [
    "## Step 3: The role of sugar\n",
    "\n",
    "Do people tend to prefer candies with higher sugar content?  \n",
    "\n",
    "#### Part A\n",
    "\n",
    "Create a scatter plot that shows the relationship between `'sugarpercent'` (on the horizontal x-axis) and `'winpercent'` (on the vertical y-axis).  _Don't add a regression line just yet -- you'll do that in the next step!_"
   ]
  },
  {
   "cell_type": "code",
   "execution_count": 9,
   "id": "fe16af89",
   "metadata": {
    "execution": {
     "iopub.execute_input": "2024-09-25T07:42:23.073178Z",
     "iopub.status.busy": "2024-09-25T07:42:23.072765Z",
     "iopub.status.idle": "2024-09-25T07:42:23.392277Z",
     "shell.execute_reply": "2024-09-25T07:42:23.391042Z"
    },
    "papermill": {
     "duration": 0.33327,
     "end_time": "2024-09-25T07:42:23.394680",
     "exception": false,
     "start_time": "2024-09-25T07:42:23.061410",
     "status": "completed"
    },
    "tags": []
   },
   "outputs": [
    {
     "data": {
      "application/javascript": [
       "parent.postMessage({\"jupyterEvent\": \"custom.exercise_interaction\", \"data\": {\"outcomeType\": 1, \"valueTowardsCompletion\": 0.3333333333333333, \"interactionType\": 1, \"questionType\": 2, \"questionId\": \"3.1_PlotBlueScatter\", \"learnToolsVersion\": \"0.3.4\", \"failureMessage\": \"\", \"exceptionClass\": \"\", \"trace\": \"\"}}, \"*\")"
      ],
      "text/plain": [
       "<IPython.core.display.Javascript object>"
      ]
     },
     "metadata": {},
     "output_type": "display_data"
    },
    {
     "data": {
      "text/markdown": [
       "<span style=\"color:#33cc33\">Correct</span>"
      ],
      "text/plain": [
       "Correct"
      ]
     },
     "metadata": {},
     "output_type": "display_data"
    },
    {
     "data": {
      "image/png": "[encoded data removed]",
      "text/plain": [
       "<Figure size 640x480 with 1 Axes>"
      ]
     },
     "metadata": {},
     "output_type": "display_data"
    }
   ],
   "source": [
    "# Scatter plot showing the relationship between 'sugarpercent' and 'winpercent'\n",
    "sns.scatterplot(x=candy_data['sugarpercent'], y=candy_data['winpercent'])# Your code here\n",
    "\n",
    "# Check your answer\n",
    "step_3.a.check()"
   ]
  },
  {
   "cell_type": "code",
   "execution_count": 10,
   "id": "263fe1c0",
   "metadata": {
    "execution": {
     "iopub.execute_input": "2024-09-25T07:42:23.416884Z",
     "iopub.status.busy": "2024-09-25T07:42:23.416508Z",
     "iopub.status.idle": "2024-09-25T07:42:23.420968Z",
     "shell.execute_reply": "2024-09-25T07:42:23.419969Z"
    },
    "papermill": {
     "duration": 0.017945,
     "end_time": "2024-09-25T07:42:23.423001",
     "exception": false,
     "start_time": "2024-09-25T07:42:23.405056",
     "status": "completed"
    },
    "tags": []
   },
   "outputs": [],
   "source": [
    "# Lines below will give you a hint or solution code\n",
    "#step_3.a.hint()\n",
    "#step_3.a.solution_plot()"
   ]
  },
  {
   "cell_type": "markdown",
   "id": "4022220c",
   "metadata": {
    "papermill": {
     "duration": 0.009769,
     "end_time": "2024-09-25T07:42:23.442969",
     "exception": false,
     "start_time": "2024-09-25T07:42:23.433200",
     "status": "completed"
    },
    "tags": []
   },
   "source": [
    "#### Part B\n",
    "\n",
    "Does the scatter plot show a **strong** correlation between the two variables?  If so, are candies with more sugar relatively more or less popular with the survey respondents?"
   ]
  },
  {
   "cell_type": "code",
   "execution_count": 11,
   "id": "0b990a08",
   "metadata": {
    "execution": {
     "iopub.execute_input": "2024-09-25T07:42:23.465373Z",
     "iopub.status.busy": "2024-09-25T07:42:23.464968Z",
     "iopub.status.idle": "2024-09-25T07:42:23.469706Z",
     "shell.execute_reply": "2024-09-25T07:42:23.468613Z"
    },
    "papermill": {
     "duration": 0.018757,
     "end_time": "2024-09-25T07:42:23.471971",
     "exception": false,
     "start_time": "2024-09-25T07:42:23.453214",
     "status": "completed"
    },
    "tags": []
   },
   "outputs": [],
   "source": [
    "#step_3.b.hint()"
   ]
  },
  {
   "cell_type": "code",
   "execution_count": 12,
   "id": "03d81cf1",
   "metadata": {
    "execution": {
     "iopub.execute_input": "2024-09-25T07:42:23.495250Z",
     "iopub.status.busy": "2024-09-25T07:42:23.494290Z",
     "iopub.status.idle": "2024-09-25T07:42:23.503316Z",
     "shell.execute_reply": "2024-09-25T07:42:23.502167Z"
    },
    "papermill": {
     "duration": 0.022795,
     "end_time": "2024-09-25T07:42:23.505552",
     "exception": false,
     "start_time": "2024-09-25T07:42:23.482757",
     "status": "completed"
    },
    "tags": []
   },
   "outputs": [
    {
     "data": {
      "application/javascript": [
       "parent.postMessage({\"jupyterEvent\": \"custom.exercise_interaction\", \"data\": {\"interactionType\": 3, \"questionType\": 4, \"questionId\": \"3.2_ThinkBlueScatter\", \"learnToolsVersion\": \"0.3.4\", \"valueTowardsCompletion\": 0.0, \"failureMessage\": \"\", \"exceptionClass\": \"\", \"trace\": \"\", \"outcomeType\": 4}}, \"*\")"
      ],
      "text/plain": [
       "<IPython.core.display.Javascript object>"
      ]
     },
     "metadata": {},
     "output_type": "display_data"
    },
    {
     "data": {
      "text/markdown": [
       "<span style=\"color:#33cc99\">Solution:</span> The scatter plot does not show a strong correlation between the two variables. Since there is no clear relationship between the two variables, this tells us that sugar content does not play a strong role in candy popularity."
      ],
      "text/plain": [
       "Solution: The scatter plot does not show a strong correlation between the two variables. Since there is no clear relationship between the two variables, this tells us that sugar content does not play a strong role in candy popularity."
      ]
     },
     "metadata": {},
     "output_type": "display_data"
    }
   ],
   "source": [
    "# Check your answer (Run this code cell to receive credit!)\n",
    "step_3.b.solution()"
   ]
  },
  {
   "cell_type": "markdown",
   "id": "af3319f4",
   "metadata": {
    "papermill": {
     "duration": 0.010085,
     "end_time": "2024-09-25T07:42:23.526247",
     "exception": false,
     "start_time": "2024-09-25T07:42:23.516162",
     "status": "completed"
    },
    "tags": []
   },
   "source": [
    "## Step 4: Take a closer look\n",
    "\n",
    "#### Part A\n",
    "\n",
    "Create the same scatter plot you created in **Step 3**, but now with a regression line!"
   ]
  },
  {
   "cell_type": "code",
   "execution_count": 13,
   "id": "55c67050",
   "metadata": {
    "execution": {
     "iopub.execute_input": "2024-09-25T07:42:23.548788Z",
     "iopub.status.busy": "2024-09-25T07:42:23.548361Z",
     "iopub.status.idle": "2024-09-25T07:42:23.913258Z",
     "shell.execute_reply": "2024-09-25T07:42:23.912206Z"
    },
    "papermill": {
     "duration": 0.378875,
     "end_time": "2024-09-25T07:42:23.915554",
     "exception": false,
     "start_time": "2024-09-25T07:42:23.536679",
     "status": "completed"
    },
    "tags": []
   },
   "outputs": [
    {
     "data": {
      "application/javascript": [
       "parent.postMessage({\"jupyterEvent\": \"custom.exercise_interaction\", \"data\": {\"outcomeType\": 1, \"valueTowardsCompletion\": 0.3333333333333333, \"interactionType\": 1, \"questionType\": 2, \"questionId\": \"4.1_PlotBlueReg\", \"learnToolsVersion\": \"0.3.4\", \"failureMessage\": \"\", \"exceptionClass\": \"\", \"trace\": \"\"}}, \"*\")"
      ],
      "text/plain": [
       "<IPython.core.display.Javascript object>"
      ]
     },
     "metadata": {},
     "output_type": "display_data"
    },
    {
     "data": {
      "text/markdown": [
       "<span style=\"color:#33cc33\">Correct</span>"
      ],
      "text/plain": [
       "Correct"
      ]
     },
     "metadata": {},
     "output_type": "display_data"
    },
    {
     "data": {
      "image/png": "[encoded data removed]",
      "text/plain": [
       "<Figure size 640x480 with 1 Axes>"
      ]
     },
     "metadata": {},
     "output_type": "display_data"
    }
   ],
   "source": [
    "# Scatter plot w/ regression line showing the relationship between 'sugarpercent' and 'winpercent'\n",
    "sns.regplot(x=candy_data['sugarpercent'], y=candy_data['winpercent'])# Your code here\n",
    "\n",
    "# Check your answer\n",
    "step_4.a.check()"
   ]
  },
  {
   "cell_type": "code",
   "execution_count": 14,
   "id": "16cc5e49",
   "metadata": {
    "execution": {
     "iopub.execute_input": "2024-09-25T07:42:23.940471Z",
     "iopub.status.busy": "2024-09-25T07:42:23.939675Z",
     "iopub.status.idle": "2024-09-25T07:42:23.944378Z",
     "shell.execute_reply": "2024-09-25T07:42:23.943342Z"
    },
    "papermill": {
     "duration": 0.019483,
     "end_time": "2024-09-25T07:42:23.946561",
     "exception": false,
     "start_time": "2024-09-25T07:42:23.927078",
     "status": "completed"
    },
    "tags": []
   },
   "outputs": [],
   "source": [
    "# Lines below will give you a hint or solution code\n",
    "#step_4.a.hint()\n",
    "#step_4.a.solution_plot()"
   ]
  },
  {
   "cell_type": "markdown",
   "id": "62e58530",
   "metadata": {
    "papermill": {
     "duration": 0.011008,
     "end_time": "2024-09-25T07:42:23.968917",
     "exception": false,
     "start_time": "2024-09-25T07:42:23.957909",
     "status": "completed"
    },
    "tags": []
   },
   "source": [
    "#### Part B\n",
    "\n",
    "According to the plot above, is there a **slight** correlation between `'winpercent'` and `'sugarpercent'`?  What does this tell you about the candy that people tend to prefer?"
   ]
  },
  {
   "cell_type": "code",
   "execution_count": 15,
   "id": "923b45a9",
   "metadata": {
    "execution": {
     "iopub.execute_input": "2024-09-25T07:42:23.994204Z",
     "iopub.status.busy": "2024-09-25T07:42:23.993787Z",
     "iopub.status.idle": "2024-09-25T07:42:23.998709Z",
     "shell.execute_reply": "2024-09-25T07:42:23.997479Z"
    },
    "papermill": {
     "duration": 0.020087,
     "end_time": "2024-09-25T07:42:24.001061",
     "exception": false,
     "start_time": "2024-09-25T07:42:23.980974",
     "status": "completed"
    },
    "tags": []
   },
   "outputs": [],
   "source": [
    "#step_4.b.hint()"
   ]
  },
  {
   "cell_type": "code",
   "execution_count": 16,
   "id": "bf84c4c7",
   "metadata": {
    "execution": {
     "iopub.execute_input": "2024-09-25T07:42:24.025926Z",
     "iopub.status.busy": "2024-09-25T07:42:24.025484Z",
     "iopub.status.idle": "2024-09-25T07:42:24.034593Z",
     "shell.execute_reply": "2024-09-25T07:42:24.033361Z"
    },
    "papermill": {
     "duration": 0.02409,
     "end_time": "2024-09-25T07:42:24.036861",
     "exception": false,
     "start_time": "2024-09-25T07:42:24.012771",
     "status": "completed"
    },
    "tags": []
   },
   "outputs": [
    {
     "data": {
      "application/javascript": [
       "parent.postMessage({\"jupyterEvent\": \"custom.exercise_interaction\", \"data\": {\"interactionType\": 3, \"questionType\": 4, \"questionId\": \"4.2_ThinkBlueReg\", \"learnToolsVersion\": \"0.3.4\", \"valueTowardsCompletion\": 0.0, \"failureMessage\": \"\", \"exceptionClass\": \"\", \"trace\": \"\", \"outcomeType\": 4}}, \"*\")"
      ],
      "text/plain": [
       "<IPython.core.display.Javascript object>"
      ]
     },
     "metadata": {},
     "output_type": "display_data"
    },
    {
     "data": {
      "text/markdown": [
       "<span style=\"color:#33cc99\">Solution:</span> Since the regression line has a slightly positive slope, this tells us that there is a slightly positive correlation between `'winpercent'` and `'sugarpercent'`. Thus, people have a slight preference for candies containing relatively more sugar."
      ],
      "text/plain": [
       "Solution: Since the regression line has a slightly positive slope, this tells us that there is a slightly positive correlation between `'winpercent'` and `'sugarpercent'`. Thus, people have a slight preference for candies containing relatively more sugar."
      ]
     },
     "metadata": {},
     "output_type": "display_data"
    }
   ],
   "source": [
    "# Check your answer (Run this code cell to receive credit!)\n",
    "step_4.b.solution()"
   ]
  },
  {
   "cell_type": "markdown",
   "id": "146f290b",
   "metadata": {
    "papermill": {
     "duration": 0.01196,
     "end_time": "2024-09-25T07:42:24.060773",
     "exception": false,
     "start_time": "2024-09-25T07:42:24.048813",
     "status": "completed"
    },
    "tags": []
   },
   "source": [
    "## Step 5: Chocolate!\n",
    "\n",
    "In the code cell below, create a scatter plot to show the relationship between `'pricepercent'` (on the horizontal x-axis) and `'winpercent'` (on the vertical y-axis). Use the `'chocolate'` column to color-code the points.  _Don't add any regression lines just yet -- you'll do that in the next step!_"
   ]
  },
  {
   "cell_type": "code",
   "execution_count": 17,
   "id": "f3f5abe6",
   "metadata": {
    "execution": {
     "iopub.execute_input": "2024-09-25T07:42:24.086405Z",
     "iopub.status.busy": "2024-09-25T07:42:24.086031Z",
     "iopub.status.idle": "2024-09-25T07:42:24.450699Z",
     "shell.execute_reply": "2024-09-25T07:42:24.449333Z"
    },
    "papermill": {
     "duration": 0.381292,
     "end_time": "2024-09-25T07:42:24.453816",
     "exception": false,
     "start_time": "2024-09-25T07:42:24.072524",
     "status": "completed"
    },
    "tags": []
   },
   "outputs": [
    {
     "data": {
      "application/javascript": [
       "parent.postMessage({\"jupyterEvent\": \"custom.exercise_interaction\", \"data\": {\"outcomeType\": 1, \"valueTowardsCompletion\": 0.3333333333333333, \"interactionType\": 1, \"questionType\": 2, \"questionId\": \"5_ColorScatter\", \"learnToolsVersion\": \"0.3.4\", \"failureMessage\": \"\", \"exceptionClass\": \"\", \"trace\": \"\"}}, \"*\")"
      ],
      "text/plain": [
       "<IPython.core.display.Javascript object>"
      ]
     },
     "metadata": {},
     "output_type": "display_data"
    },
    {
     "data": {
      "text/markdown": [
       "<span style=\"color:#33cc33\">Correct</span>"
      ],
      "text/plain": [
       "Correct"
      ]
     },
     "metadata": {},
     "output_type": "display_data"
    },
    {
     "data": {
      "image/png": "[encoded data removed]",
      "text/plain": [
       "<Figure size 640x480 with 1 Axes>"
      ]
     },
     "metadata": {},
     "output_type": "display_data"
    }
   ],
   "source": [
    "# Scatter plot showing the relationship between 'pricepercent', 'winpercent', and 'chocolate'\n",
    "sns.scatterplot(x=candy_data['pricepercent'], y=candy_data['winpercent'], hue = candy_data['chocolate']) # Your code here\n",
    "\n",
    "# Check your answer\n",
    "step_5.check()"
   ]
  },
  {
   "cell_type": "code",
   "execution_count": 18,
   "id": "4d9228d9",
   "metadata": {
    "execution": {
     "iopub.execute_input": "2024-09-25T07:42:24.481978Z",
     "iopub.status.busy": "2024-09-25T07:42:24.481533Z",
     "iopub.status.idle": "2024-09-25T07:42:24.486642Z",
     "shell.execute_reply": "2024-09-25T07:42:24.485533Z"
    },
    "papermill": {
     "duration": 0.021547,
     "end_time": "2024-09-25T07:42:24.488939",
     "exception": false,
     "start_time": "2024-09-25T07:42:24.467392",
     "status": "completed"
    },
    "tags": []
   },
   "outputs": [],
   "source": [
    "# Lines below will give you a hint or solution code\n",
    "#step_5.hint()\n",
    "#step_5.solution_plot()"
   ]
  },
  {
   "cell_type": "markdown",
   "id": "1858fdec",
   "metadata": {
    "papermill": {
     "duration": 0.012203,
     "end_time": "2024-09-25T07:42:24.514107",
     "exception": false,
     "start_time": "2024-09-25T07:42:24.501904",
     "status": "completed"
    },
    "tags": []
   },
   "source": [
    "Can you see any interesting patterns in the scatter plot?  We'll investigate this plot further  by adding regression lines in the next step!\n",
    "\n",
    "## Step 6: Investigate chocolate\n",
    "\n",
    "#### Part A\n",
    "\n",
    "Create the same scatter plot you created in **Step 5**, but now with two regression lines, corresponding to (1) chocolate candies and (2) candies without chocolate."
   ]
  },
  {
   "cell_type": "markdown",
   "id": "f9ac3330",
   "metadata": {
    "papermill": {
     "duration": 0.012296,
     "end_time": "2024-09-25T07:42:24.539030",
     "exception": false,
     "start_time": "2024-09-25T07:42:24.526734",
     "status": "completed"
    },
    "tags": []
   },
   "source": []
  },
  {
   "cell_type": "code",
   "execution_count": 19,
   "id": "934b7a97",
   "metadata": {
    "execution": {
     "iopub.execute_input": "2024-09-25T07:42:24.566182Z",
     "iopub.status.busy": "2024-09-25T07:42:24.565768Z",
     "iopub.status.idle": "2024-09-25T07:42:25.323100Z",
     "shell.execute_reply": "2024-09-25T07:42:25.321983Z"
    },
    "papermill": {
     "duration": 0.773749,
     "end_time": "2024-09-25T07:42:25.325586",
     "exception": false,
     "start_time": "2024-09-25T07:42:24.551837",
     "status": "completed"
    },
    "tags": []
   },
   "outputs": [
    {
     "data": {
      "application/javascript": [
       "parent.postMessage({\"jupyterEvent\": \"custom.exercise_interaction\", \"data\": {\"outcomeType\": 1, \"valueTowardsCompletion\": 0.3333333333333333, \"interactionType\": 1, \"questionType\": 2, \"questionId\": \"6.1_PlotColorReg\", \"learnToolsVersion\": \"0.3.4\", \"failureMessage\": \"\", \"exceptionClass\": \"\", \"trace\": \"\"}}, \"*\")"
      ],
      "text/plain": [
       "<IPython.core.display.Javascript object>"
      ]
     },
     "metadata": {},
     "output_type": "display_data"
    },
    {
     "data": {
      "text/markdown": [
       "<span style=\"color:#33cc33\">Correct</span>"
      ],
      "text/plain": [
       "Correct"
      ]
     },
     "metadata": {},
     "output_type": "display_data"
    },
    {
     "data": {
      "image/png": "[encoded data removed]",
      "text/plain": [
       "<Figure size 578.611x500 with 1 Axes>"
      ]
     },
     "metadata": {},
     "output_type": "display_data"
    }
   ],
   "source": [
    "# Color-coded scatter plot w/ regression lines\n",
    "sns.lmplot(x='pricepercent', y='winpercent', hue='chocolate', data=candy_data) # Your code here\n",
    "\n",
    "# Check your answer\n",
    "step_6.a.check()"
   ]
  },
  {
   "cell_type": "code",
   "execution_count": 20,
   "id": "c51814bf",
   "metadata": {
    "execution": {
     "iopub.execute_input": "2024-09-25T07:42:25.354163Z",
     "iopub.status.busy": "2024-09-25T07:42:25.353763Z",
     "iopub.status.idle": "2024-09-25T07:42:25.358256Z",
     "shell.execute_reply": "2024-09-25T07:42:25.357219Z"
    },
    "papermill": {
     "duration": 0.021258,
     "end_time": "2024-09-25T07:42:25.360440",
     "exception": false,
     "start_time": "2024-09-25T07:42:25.339182",
     "status": "completed"
    },
    "tags": []
   },
   "outputs": [],
   "source": [
    "# Lines below will give you a hint or solution code\n",
    "#step_6.a.hint()\n",
    "#step_6.a.solution_plot()"
   ]
  },
  {
   "cell_type": "markdown",
   "id": "92f5633a",
   "metadata": {
    "papermill": {
     "duration": 0.013971,
     "end_time": "2024-09-25T07:42:25.387784",
     "exception": false,
     "start_time": "2024-09-25T07:42:25.373813",
     "status": "completed"
    },
    "tags": []
   },
   "source": [
    "#### Part B\n",
    "\n",
    "Using the regression lines, what conclusions can you draw about the effects of chocolate and price on candy popularity?"
   ]
  },
  {
   "cell_type": "code",
   "execution_count": 21,
   "id": "a6b35388",
   "metadata": {
    "execution": {
     "iopub.execute_input": "2024-09-25T07:42:25.416187Z",
     "iopub.status.busy": "2024-09-25T07:42:25.415813Z",
     "iopub.status.idle": "2024-09-25T07:42:25.420550Z",
     "shell.execute_reply": "2024-09-25T07:42:25.419498Z"
    },
    "papermill": {
     "duration": 0.021677,
     "end_time": "2024-09-25T07:42:25.422962",
     "exception": false,
     "start_time": "2024-09-25T07:42:25.401285",
     "status": "completed"
    },
    "tags": []
   },
   "outputs": [],
   "source": [
    "#step_6.b.hint()"
   ]
  },
  {
   "cell_type": "code",
   "execution_count": 22,
   "id": "80d49bbd",
   "metadata": {
    "execution": {
     "iopub.execute_input": "2024-09-25T07:42:25.453135Z",
     "iopub.status.busy": "2024-09-25T07:42:25.452260Z",
     "iopub.status.idle": "2024-09-25T07:42:25.461328Z",
     "shell.execute_reply": "2024-09-25T07:42:25.460294Z"
    },
    "papermill": {
     "duration": 0.027062,
     "end_time": "2024-09-25T07:42:25.463550",
     "exception": false,
     "start_time": "2024-09-25T07:42:25.436488",
     "status": "completed"
    },
    "tags": []
   },
   "outputs": [
    {
     "data": {
      "application/javascript": [
       "parent.postMessage({\"jupyterEvent\": \"custom.exercise_interaction\", \"data\": {\"interactionType\": 3, \"questionType\": 4, \"questionId\": \"6.2_ThinkColorReg\", \"learnToolsVersion\": \"0.3.4\", \"valueTowardsCompletion\": 0.0, \"failureMessage\": \"\", \"exceptionClass\": \"\", \"trace\": \"\", \"outcomeType\": 4}}, \"*\")"
      ],
      "text/plain": [
       "<IPython.core.display.Javascript object>"
      ]
     },
     "metadata": {},
     "output_type": "display_data"
    },
    {
     "data": {
      "text/markdown": [
       "<span style=\"color:#33cc99\">Solution:</span> We'll begin with the regression line for chocolate candies. Since this line has a slightly positive slope, we can say that more expensive chocolate candies tend to be more popular (than relatively cheaper chocolate candies).  Likewise, since the regression line for candies without chocolate has a negative slope, we can say that if candies don't contain chocolate, they tend to be more popular when they are cheaper.  One important note, however, is that the dataset is quite small -- so we shouldn't invest too much trust in these patterns!  To inspire more confidence in the results, we should add more candies to the dataset."
      ],
      "text/plain": [
       "Solution: We'll begin with the regression line for chocolate candies. Since this line has a slightly positive slope, we can say that more expensive chocolate candies tend to be more popular (than relatively cheaper chocolate candies).  Likewise, since the regression line for candies without chocolate has a negative slope, we can say that if candies don't contain chocolate, they tend to be more popular when they are cheaper.  One important note, however, is that the dataset is quite small -- so we shouldn't invest too much trust in these patterns!  To inspire more confidence in the results, we should add more candies to the dataset."
      ]
     },
     "metadata": {},
     "output_type": "display_data"
    }
   ],
   "source": [
    "# Check your answer (Run this code cell to receive credit!)\n",
    "step_6.b.solution()"
   ]
  },
  {
   "cell_type": "markdown",
   "id": "b63d42d5",
   "metadata": {
    "papermill": {
     "duration": 0.014057,
     "end_time": "2024-09-25T07:42:25.492232",
     "exception": false,
     "start_time": "2024-09-25T07:42:25.478175",
     "status": "completed"
    },
    "tags": []
   },
   "source": [
    "## Step 7: Everybody loves chocolate.\n",
    "\n",
    "#### Part A\n",
    "\n",
    "Create a categorical scatter plot to highlight the relationship between `'chocolate'` and `'winpercent'`.  Put `'chocolate'` on the (horizontal) x-axis, and `'winpercent'` on the (vertical) y-axis."
   ]
  },
  {
   "cell_type": "code",
   "execution_count": 23,
   "id": "a2b31dfa",
   "metadata": {
    "execution": {
     "iopub.execute_input": "2024-09-25T07:42:25.521658Z",
     "iopub.status.busy": "2024-09-25T07:42:25.521255Z",
     "iopub.status.idle": "2024-09-25T07:42:25.829972Z",
     "shell.execute_reply": "2024-09-25T07:42:25.828781Z"
    },
    "papermill": {
     "duration": 0.326933,
     "end_time": "2024-09-25T07:42:25.833070",
     "exception": false,
     "start_time": "2024-09-25T07:42:25.506137",
     "status": "completed"
    },
    "tags": []
   },
   "outputs": [
    {
     "data": {
      "application/javascript": [
       "parent.postMessage({\"jupyterEvent\": \"custom.exercise_interaction\", \"data\": {\"outcomeType\": 1, \"valueTowardsCompletion\": 0.3333333333333333, \"interactionType\": 1, \"questionType\": 2, \"questionId\": \"7.1_PlotSwarm\", \"learnToolsVersion\": \"0.3.4\", \"failureMessage\": \"\", \"exceptionClass\": \"\", \"trace\": \"\"}}, \"*\")"
      ],
      "text/plain": [
       "<IPython.core.display.Javascript object>"
      ]
     },
     "metadata": {},
     "output_type": "display_data"
    },
    {
     "data": {
      "text/markdown": [
       "<span style=\"color:#33cc33\">Correct</span>"
      ],
      "text/plain": [
       "Correct"
      ]
     },
     "metadata": {},
     "output_type": "display_data"
    },
    {
     "data": {
      "image/png": "[encoded data removed]",
      "text/plain": [
       "<Figure size 640x480 with 1 Axes>"
      ]
     },
     "metadata": {},
     "output_type": "display_data"
    }
   ],
   "source": [
    "# Scatter plot showing the relationship between 'chocolate' and 'winpercent'\n",
    "sns.swarmplot(x=candy_data['chocolate'], y=candy_data ['winpercent']) # Your code here\n",
    "\n",
    "# Check your answer\n",
    "step_7.a.check()"
   ]
  },
  {
   "cell_type": "code",
   "execution_count": 24,
   "id": "5e5400a8",
   "metadata": {
    "execution": {
     "iopub.execute_input": "2024-09-25T07:42:25.863940Z",
     "iopub.status.busy": "2024-09-25T07:42:25.863228Z",
     "iopub.status.idle": "2024-09-25T07:42:25.867708Z",
     "shell.execute_reply": "2024-09-25T07:42:25.866837Z"
    },
    "papermill": {
     "duration": 0.02277,
     "end_time": "2024-09-25T07:42:25.870033",
     "exception": false,
     "start_time": "2024-09-25T07:42:25.847263",
     "status": "completed"
    },
    "tags": []
   },
   "outputs": [],
   "source": [
    "# Lines below will give you a hint or solution code\n",
    "#step_7.a.hint()\n",
    "#step_7.a.solution_plot()"
   ]
  },
  {
   "cell_type": "markdown",
   "id": "638869e1",
   "metadata": {
    "papermill": {
     "duration": 0.014079,
     "end_time": "2024-09-25T07:42:25.898610",
     "exception": false,
     "start_time": "2024-09-25T07:42:25.884531",
     "status": "completed"
    },
    "tags": []
   },
   "source": [
    "#### Part B\n",
    "\n",
    "You decide to dedicate a section of your report to the fact that chocolate candies tend to be more popular than candies without chocolate.  Which plot is more appropriate to tell this story: the plot from **Step 6**, or the plot from **Step 7**?"
   ]
  },
  {
   "cell_type": "code",
   "execution_count": 25,
   "id": "992d174e",
   "metadata": {
    "execution": {
     "iopub.execute_input": "2024-09-25T07:42:25.929328Z",
     "iopub.status.busy": "2024-09-25T07:42:25.928536Z",
     "iopub.status.idle": "2024-09-25T07:42:25.933300Z",
     "shell.execute_reply": "2024-09-25T07:42:25.932223Z"
    },
    "papermill": {
     "duration": 0.022792,
     "end_time": "2024-09-25T07:42:25.935653",
     "exception": false,
     "start_time": "2024-09-25T07:42:25.912861",
     "status": "completed"
    },
    "tags": []
   },
   "outputs": [],
   "source": [
    "#step_7.b.hint()"
   ]
  },
  {
   "cell_type": "code",
   "execution_count": 26,
   "id": "a1d08cf1",
   "metadata": {
    "execution": {
     "iopub.execute_input": "2024-09-25T07:42:25.966981Z",
     "iopub.status.busy": "2024-09-25T07:42:25.966250Z",
     "iopub.status.idle": "2024-09-25T07:42:25.976000Z",
     "shell.execute_reply": "2024-09-25T07:42:25.974906Z"
    },
    "papermill": {
     "duration": 0.028218,
     "end_time": "2024-09-25T07:42:25.978368",
     "exception": false,
     "start_time": "2024-09-25T07:42:25.950150",
     "status": "completed"
    },
    "tags": []
   },
   "outputs": [
    {
     "data": {
      "application/javascript": [
       "parent.postMessage({\"jupyterEvent\": \"custom.exercise_interaction\", \"data\": {\"interactionType\": 3, \"questionType\": 4, \"questionId\": \"7.2_ThinkSwarm\", \"learnToolsVersion\": \"0.3.4\", \"valueTowardsCompletion\": 0.0, \"failureMessage\": \"\", \"exceptionClass\": \"\", \"trace\": \"\", \"outcomeType\": 4}}, \"*\")"
      ],
      "text/plain": [
       "<IPython.core.display.Javascript object>"
      ]
     },
     "metadata": {},
     "output_type": "display_data"
    },
    {
     "data": {
      "text/markdown": [
       "<span style=\"color:#33cc99\">Solution:</span> In this case, the categorical scatter plot from **Step 7** is the more appropriate plot. While both plots tell the desired story, the plot from **Step 6** conveys far more information that could distract from the main point."
      ],
      "text/plain": [
       "Solution: In this case, the categorical scatter plot from **Step 7** is the more appropriate plot. While both plots tell the desired story, the plot from **Step 6** conveys far more information that could distract from the main point."
      ]
     },
     "metadata": {},
     "output_type": "display_data"
    }
   ],
   "source": [
    "# Check your answer (Run this code cell to receive credit!)\n",
    "step_7.b.solution()"
   ]
  },
  {
   "cell_type": "markdown",
   "id": "8a12a74d",
   "metadata": {
    "papermill": {
     "duration": 0.01452,
     "end_time": "2024-09-25T07:42:26.007747",
     "exception": false,
     "start_time": "2024-09-25T07:42:25.993227",
     "status": "completed"
    },
    "tags": []
   },
   "source": [
    "## Keep going\n",
    "\n",
    "Explore **[histograms and density plots](https://www.kaggle.com/alexisbcook/distributions)**."
   ]
  },
  {
   "cell_type": "markdown",
   "id": "724ace6d",
   "metadata": {
    "papermill": {
     "duration": 0.014489,
     "end_time": "2024-09-25T07:42:26.036906",
     "exception": false,
     "start_time": "2024-09-25T07:42:26.022417",
     "status": "completed"
    },
    "tags": []
   },
   "source": [
    "---\n",
    "\n",
    "\n",
    "\n",
    "\n",
    "*Have questions or comments? Visit the [course discussion forum](https://www.kaggle.com/learn/data-visualization/discussion) to chat with other learners.*"
   ]
  }
 ],
 "metadata": {
  "kaggle": {
   "accelerator": "none",
   "dataSources": [
    {
     "datasetId": 116573,
     "sourceId": 3551030,
     "sourceType": "datasetVersion"
    }
   ],
   "isGpuEnabled": false,
   "isInternetEnabled": false,
   "language": "python",
   "sourceType": "notebook"
  },
  "kernelspec": {
   "display_name": "Python 3",
   "language": "python",
   "name": "python3"
  },
  "language_info": {
   "codemirror_mode": {
    "name": "ipython",
    "version": 3
   },
   "file_extension": ".py",
   "mimetype": "text/x-python",
   "name": "python",
   "nbconvert_exporter": "python",
   "pygments_lexer": "ipython3",
   "version": "3.10.14"
  },
  "papermill": {
   "default_parameters": {},
   "duration": 9.479273,
   "end_time": "2024-09-25T07:42:26.673393",
   "environment_variables": {},
   "exception": null,
   "input_path": "__notebook__.ipynb",
   "output_path": "__notebook__.ipynb",
   "parameters": {},
   "start_time": "2024-09-25T07:42:17.194120",
   "version": "2.6.0"
  }
 },
 "nbformat": 4,
 "nbformat_minor": 5
}
